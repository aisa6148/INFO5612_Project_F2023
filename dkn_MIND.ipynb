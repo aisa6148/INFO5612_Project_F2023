{
    "cells": [
        {
            "cell_type": "markdown",
            "metadata": {},
            "source": [
                "<i>Copyright (c) Recommenders contributors.</i>\n",
                "\n",
                "<i>Licensed under the MIT License.</i>"
            ]
        },
        {
            "cell_type": "markdown",
            "metadata": {},
            "source": [
                "# DKN : Deep Knowledge-Aware Network for News Recommendation\n",
                "\n",
                "DKN \\[1\\] is a deep learning model which incorporates information from knowledge graph for better news recommendation. Specifically, DKN uses TransX \\[2\\] method for knowledge graph representation learning, then applies a CNN framework, named KCNN, to combine entity embedding with word embedding and generate a final embedding vector for a news article. CTR prediction is made via an attention-based neural scorer. \n",
                "\n",
                "## Properties of DKN:\n",
                "\n",
                "- DKN is a content-based deep model for CTR prediction rather than traditional ID-based collaborative filtering. \n",
                "- It makes use of knowledge entities and common sense in news content via joint learning from semantic-level and knowledge-level representations of news articles.\n",
                "- DKN uses an attention module to dynamically calculate a user's aggregated historical representaition.\n",
                "\n",
                "\n",
                "## Data format:\n",
                "\n",
                "### DKN takes several files as input as follows:\n",
                "\n",
                "- **training / validation / test files**: each line in these files represents one instance. Impressionid is used to evaluate performance within an impression session, so it is only used when evaluating, you can set it to 0 for training data. The format is : <br> \n",
                "`[label] [userid] [CandidateNews]%[impressionid] `<br> \n",
                "e.g., `1 train_U1 N1%0` <br> \n",
                "\n",
                "- **user history file**: each line in this file represents a users' click history. You need to set `history_size` parameter in the config file, which is the max number of user's click history we use. We will automatically keep the last `history_size` number of user click history, if user's click history is more than `history_size`, and we will automatically pad with 0 if user's click history is less than `history_size`. the format is : <br> \n",
                "`[Userid] [newsid1,newsid2...]`<br>\n",
                "e.g., `train_U1 N1,N2` <br> \n",
                "\n",
                "- **document feature file**: It contains the word and entity features for news articles. News articles are represented by aligned title words and title entities. To take a quick example, a news title may be: <i>\"Trump to deliver State of the Union address next week\"</i>, then the title words value may be `CandidateNews:34,45,334,23,12,987,3456,111,456,432` and the title entitie value may be: `entity:45,0,0,0,0,0,0,0,0,0`. Only the first value of entity vector is non-zero due to the word \"Trump\". The title value and entity value is hashed from 1 to `n` (where `n` is the number of distinct words or entities). Each feature length should be fixed at k (`doc_size` parameter), if the number of words in document is more than k, you should truncate the document to k words, and if the number of words in document is less than k, you should pad 0 to the end. \n",
                "the format is like: <br> \n",
                "`[Newsid] [w1,w2,w3...wk] [e1,e2,e3...ek]`\n",
                "\n",
                "- **word embedding/entity embedding/ context embedding files**: These are `*.npy` files of pretrained embeddings. After loading, each file is a `[n+1,k]` two-dimensional matrix, n is the number of words(or entities) of their hash dictionary, k is dimension of the embedding, note that we keep embedding 0 for zero padding. \n",
                "\n",
                "In this experiment, we used GloVe \\[4\\] vectors to initialize the word embedding. We trained entity embedding using TransE \\[2\\] on knowledge graph and context embedding is the average of the entity's neighbors in the knowledge graph.<br>\n",
                "\n",
                "## MIND dataset\n",
                "\n",
                "MIND dataset\\[3\\] is a large-scale English news dataset. It was collected from anonymized behavior logs of Microsoft News website. MIND contains 1,000,000 users, 161,013 news articles and 15,777,377 impression logs. Every news article contains rich textual content including title, abstract, body, category and entities. Each impression log contains the click events, non-clicked events and historical news click behaviors of this user before this impression.\n",
                "\n",
                "In this notebook we are going to use a subset of MIND dataset, **MIND demo**. MIND demo contains 500 users, 9,432 news articles  and 6,134 impression logs. \n",
                "\n",
                "For this quick start notebook, we are providing directly all the necessary word embeddings, entity embeddings and context embedding files."
            ]
        },
        {
            "cell_type": "markdown",
            "metadata": {},
            "source": [
                "## Global settings and imports"
            ]
        },
        {
            "cell_type": "code",
            "execution_count": 2,
            "metadata": {},
            "outputs": [
                {
                    "name": "stdout",
                    "output_type": "stream",
                    "text": [
                        "3.9.18\n"
                    ]
                }
            ],
            "source": [
                "import platform\n",
                "print(platform.python_version())"
            ]
        },
        {
            "cell_type": "code",
            "execution_count": 72,
            "metadata": {
                "pycharm": {
                    "is_executing": false
                }
            },
            "outputs": [
                {
                    "name": "stdout",
                    "output_type": "stream",
                    "text": [
                        "System version: 3.9.18 (main, Sep 11 2023, 14:09:26) [MSC v.1916 64 bit (AMD64)]\n",
                        "Tensorflow version: 2.14.0\n"
                    ]
                }
            ],
            "source": [
                "import warnings\n",
                "warnings.filterwarnings(\"ignore\")\n",
                "\n",
                "import os\n",
                "import sys\n",
                "from tempfile import TemporaryDirectory\n",
                "import numpy as np\n",
                "import pandas as pd\n",
                "import scrapbook as sb\n",
                "import tensorflow as tf\n",
                "tf.get_logger().setLevel(\"ERROR\") # only show error messages\n",
                "tf.compat.v1.logging.set_verbosity(tf.compat.v1.logging.ERROR)\n",
                "\n",
                "from recommenders.models.deeprec.deeprec_utils import download_deeprec_resources, prepare_hparams\n",
                "from recommenders.models.deeprec.models.dkn import DKN\n",
                "from recommenders.models.deeprec.io.dkn_iterator import DKNTextIterator\n",
                "\n",
                "print(f\"System version: {sys.version}\")\n",
                "print(f\"Tensorflow version: {tf.__version__}\")"
            ]
        },
        {
            "cell_type": "markdown",
            "metadata": {},
            "source": [
                "## Download and load data"
            ]
        },
        {
            "cell_type": "code",
            "execution_count": 5,
            "metadata": {
                "pycharm": {
                    "is_executing": false
                }
            },
            "outputs": [
                {
                    "name": "stderr",
                    "output_type": "stream",
                    "text": [
                        "100%|██████████| 11.3k/11.3k [00:02<00:00, 5.65kKB/s]\n"
                    ]
                }
            ],
            "source": [
                "tmpdir = TemporaryDirectory()\n",
                "data_path = os.path.join(tmpdir.name, \"mind-demo-dkn\")\n",
                "\n",
                "yaml_file = os.path.join(data_path, \"dkn.yaml\")\n",
                "train_file = os.path.join(data_path, \"train_mind_demo.txt\")\n",
                "valid_file = os.path.join(data_path, \"valid_mind_demo.txt\")\n",
                "test_file = os.path.join(data_path, \"test_mind_demo.txt\")\n",
                "news_feature_file = os.path.join(data_path, \"doc_feature.txt\")\n",
                "user_history_file = os.path.join(data_path, \"user_history.txt\")\n",
                "wordEmb_file = os.path.join(data_path, \"word_embeddings_100.npy\")\n",
                "entityEmb_file = os.path.join(data_path, \"TransE_entity2vec_100.npy\")\n",
                "contextEmb_file = os.path.join(data_path, \"TransE_context2vec_100.npy\")\n",
                "if not os.path.exists(yaml_file):\n",
                "    download_deeprec_resources(\"https://recodatasets.z20.web.core.windows.net/deeprec/\", tmpdir.name, \"mind-demo-dkn.zip\")\n",
                "    "
            ]
        },
        {
            "cell_type": "markdown",
            "metadata": {},
            "source": [
                "## Create hyper-parameters"
            ]
        },
        {
            "cell_type": "code",
            "execution_count": 4,
            "metadata": {
                "pycharm": {
                    "is_executing": false
                },
                "tags": [
                    "parameters"
                ]
            },
            "outputs": [],
            "source": [
                "EPOCHS = 10\n",
                "HISTORY_SIZE = 50\n",
                "BATCH_SIZE = 500"
            ]
        },
        {
            "cell_type": "code",
            "execution_count": 5,
            "metadata": {
                "pycharm": {
                    "is_executing": false
                }
            },
            "outputs": [
                {
                    "name": "stdout",
                    "output_type": "stream",
                    "text": [
                        "HParams object with values {'use_entity': True, 'use_context': True, 'cross_activation': 'identity', 'user_dropout': False, 'dropout': [0.0], 'attention_dropout': 0.0, 'load_saved_model': False, 'fast_CIN_d': 0, 'use_Linear_part': False, 'use_FM_part': False, 'use_CIN_part': False, 'use_DNN_part': False, 'init_method': 'uniform', 'init_value': 0.1, 'embed_l2': 1e-06, 'embed_l1': 0.0, 'layer_l2': 1e-06, 'layer_l1': 0.0, 'cross_l2': 0.0, 'cross_l1': 0.0, 'reg_kg': 0.0, 'learning_rate': 0.0005, 'lr_rs': 1, 'lr_kg': 0.5, 'kg_training_interval': 5, 'max_grad_norm': 2, 'is_clip_norm': 0, 'dtype': 32, 'optimizer': 'adam', 'epochs': 10, 'batch_size': 500, 'enable_BN': True, 'show_step': 10000, 'save_model': False, 'save_epoch': 2, 'write_tfevents': False, 'train_num_ngs': 4, 'need_sample': True, 'embedding_dropout': 0.0, 'EARLY_STOP': 100, 'min_seq_length': 1, 'slots': 5, 'cell': 'SUM', 'doc_size': 10, 'history_size': 50, 'word_size': 12600, 'entity_size': 3987, 'data_format': 'dkn', 'metrics': ['auc'], 'pairwise_metrics': ['group_auc', 'mean_mrr', 'ndcg@5;10'], 'method': 'classification', 'activation': ['sigmoid'], 'attention_activation': 'relu', 'attention_layer_sizes': 100, 'dim': 100, 'entity_dim': 100, 'transform': True, 'filter_sizes': [1, 2, 3], 'layer_sizes': [300], 'model_type': 'dkn', 'num_filters': 100, 'loss': 'log_loss', 'news_feature_file': 'C:\\\\Users\\\\Eliza\\\\AppData\\\\Local\\\\Temp\\\\tmpbv94ue6p\\\\mind-demo-dkn\\\\doc_feature.txt', 'user_history_file': 'C:\\\\Users\\\\Eliza\\\\AppData\\\\Local\\\\Temp\\\\tmpbv94ue6p\\\\mind-demo-dkn\\\\user_history.txt', 'wordEmb_file': 'C:\\\\Users\\\\Eliza\\\\AppData\\\\Local\\\\Temp\\\\tmpbv94ue6p\\\\mind-demo-dkn\\\\word_embeddings_100.npy', 'entityEmb_file': 'C:\\\\Users\\\\Eliza\\\\AppData\\\\Local\\\\Temp\\\\tmpbv94ue6p\\\\mind-demo-dkn\\\\TransE_entity2vec_100.npy', 'contextEmb_file': 'C:\\\\Users\\\\Eliza\\\\AppData\\\\Local\\\\Temp\\\\tmpbv94ue6p\\\\mind-demo-dkn\\\\TransE_context2vec_100.npy'}\n"
                    ]
                }
            ],
            "source": [
                "hparams = prepare_hparams(yaml_file,\n",
                "                          news_feature_file = news_feature_file,\n",
                "                          user_history_file = user_history_file,\n",
                "                          wordEmb_file=wordEmb_file,\n",
                "                          entityEmb_file=entityEmb_file,\n",
                "                          contextEmb_file=contextEmb_file,\n",
                "                          epochs=EPOCHS,\n",
                "                          history_size=HISTORY_SIZE,\n",
                "                          batch_size=BATCH_SIZE)\n",
                "print(hparams)"
            ]
        },
        {
            "cell_type": "markdown",
            "metadata": {},
            "source": [
                "## Train the DKN model"
            ]
        },
        {
            "cell_type": "code",
            "execution_count": 6,
            "metadata": {
                "pycharm": {
                    "is_executing": false
                }
            },
            "outputs": [],
            "source": [
                "model = DKN(hparams, DKNTextIterator)"
            ]
        },
        {
            "cell_type": "code",
            "execution_count": 8,
            "metadata": {
                "pycharm": {
                    "is_executing": false
                }
            },
            "outputs": [
                {
                    "name": "stdout",
                    "output_type": "stream",
                    "text": [
                        "{'auc': 0.4415, 'group_auc': 0.4549, 'mean_mrr': 0.1441, 'ndcg@5': 0.1179, 'ndcg@10': 0.1823}\n"
                    ]
                }
            ],
            "source": [
                "print(model.run_eval(valid_file))"
            ]
        },
        {
            "cell_type": "code",
            "execution_count": 9,
            "metadata": {
                "pycharm": {
                    "is_executing": false
                },
                "scrolled": true
            },
            "outputs": [
                {
                    "name": "stdout",
                    "output_type": "stream",
                    "text": [
                        "at epoch 1\n",
                        "train info: logloss loss:0.6918459994097551\n",
                        "eval info: auc:0.5729, group_auc:0.5506, mean_mrr:0.1835, ndcg@10:0.2462, ndcg@5:0.1898\n",
                        "at epoch 1 , train time: 222.6 eval time: 48.8\n",
                        "at epoch 2\n",
                        "train info: logloss loss:0.6521421199043592\n",
                        "eval info: auc:0.586, group_auc:0.5525, mean_mrr:0.1768, ndcg@10:0.2414, ndcg@5:0.1821\n",
                        "at epoch 2 , train time: 246.1 eval time: 29.2\n",
                        "at epoch 3\n",
                        "train info: logloss loss:0.6361930264780918\n",
                        "eval info: auc:0.5979, group_auc:0.5596, mean_mrr:0.1879, ndcg@10:0.2519, ndcg@5:0.1916\n",
                        "at epoch 3 , train time: 227.8 eval time: 34.6\n",
                        "at epoch 4\n",
                        "train info: logloss loss:0.6199349015951157\n",
                        "eval info: auc:0.6016, group_auc:0.5652, mean_mrr:0.1856, ndcg@10:0.2547, ndcg@5:0.188\n",
                        "at epoch 4 , train time: 228.2 eval time: 35.5\n"
                    ]
                },
                {
                    "ename": "KeyboardInterrupt",
                    "evalue": "",
                    "output_type": "error",
                    "traceback": [
                        "\u001b[1;31m---------------------------------------------------------------------------\u001b[0m",
                        "\u001b[1;31mKeyboardInterrupt\u001b[0m                         Traceback (most recent call last)",
                        "\u001b[1;32mc:\\Users\\Eliza\\Downloads\\dkn_MIND.ipynb Cell 14\u001b[0m line \u001b[0;36m1\n\u001b[1;32m----> <a href='vscode-notebook-cell:/c%3A/Users/Eliza/Downloads/dkn_MIND.ipynb#X16sZmlsZQ%3D%3D?line=0'>1</a>\u001b[0m model\u001b[39m.\u001b[39;49mfit(train_file, valid_file)\n",
                        "File \u001b[1;32mc:\\Users\\Eliza\\anaconda3\\envs\\info_5612_project\\lib\\site-packages\\recommenders\\models\\deeprec\\models\\base_model.py:465\u001b[0m, in \u001b[0;36mBaseModel.fit\u001b[1;34m(self, train_file, valid_file, test_file)\u001b[0m\n\u001b[0;32m    459\u001b[0m train_start \u001b[39m=\u001b[39m time\u001b[39m.\u001b[39mtime()\n\u001b[0;32m    460\u001b[0m \u001b[39mfor\u001b[39;00m (\n\u001b[0;32m    461\u001b[0m     batch_data_input,\n\u001b[0;32m    462\u001b[0m     impression,\n\u001b[0;32m    463\u001b[0m     data_size,\n\u001b[0;32m    464\u001b[0m ) \u001b[39min\u001b[39;00m \u001b[39mself\u001b[39m\u001b[39m.\u001b[39miterator\u001b[39m.\u001b[39mload_data_from_file(train_file):\n\u001b[1;32m--> 465\u001b[0m     step_result \u001b[39m=\u001b[39m \u001b[39mself\u001b[39;49m\u001b[39m.\u001b[39;49mtrain(train_sess, batch_data_input)\n\u001b[0;32m    466\u001b[0m     (_, _, step_loss, step_data_loss, summary) \u001b[39m=\u001b[39m step_result\n\u001b[0;32m    467\u001b[0m     \u001b[39mif\u001b[39;00m \u001b[39mself\u001b[39m\u001b[39m.\u001b[39mhparams\u001b[39m.\u001b[39mwrite_tfevents:\n",
                        "File \u001b[1;32mc:\\Users\\Eliza\\anaconda3\\envs\\info_5612_project\\lib\\site-packages\\recommenders\\models\\deeprec\\models\\base_model.py:379\u001b[0m, in \u001b[0;36mBaseModel.train\u001b[1;34m(self, sess, feed_dict)\u001b[0m\n\u001b[0;32m    377\u001b[0m feed_dict[\u001b[39mself\u001b[39m\u001b[39m.\u001b[39mlayer_keeps] \u001b[39m=\u001b[39m \u001b[39mself\u001b[39m\u001b[39m.\u001b[39mkeep_prob_train\n\u001b[0;32m    378\u001b[0m feed_dict[\u001b[39mself\u001b[39m\u001b[39m.\u001b[39mis_train_stage] \u001b[39m=\u001b[39m \u001b[39mTrue\u001b[39;00m\n\u001b[1;32m--> 379\u001b[0m \u001b[39mreturn\u001b[39;00m sess\u001b[39m.\u001b[39;49mrun(\n\u001b[0;32m    380\u001b[0m     [\n\u001b[0;32m    381\u001b[0m         \u001b[39mself\u001b[39;49m\u001b[39m.\u001b[39;49mupdate,\n\u001b[0;32m    382\u001b[0m         \u001b[39mself\u001b[39;49m\u001b[39m.\u001b[39;49mextra_update_ops,\n\u001b[0;32m    383\u001b[0m         \u001b[39mself\u001b[39;49m\u001b[39m.\u001b[39;49mloss,\n\u001b[0;32m    384\u001b[0m         \u001b[39mself\u001b[39;49m\u001b[39m.\u001b[39;49mdata_loss,\n\u001b[0;32m    385\u001b[0m         \u001b[39mself\u001b[39;49m\u001b[39m.\u001b[39;49mmerged,\n\u001b[0;32m    386\u001b[0m     ],\n\u001b[0;32m    387\u001b[0m     feed_dict\u001b[39m=\u001b[39;49mfeed_dict,\n\u001b[0;32m    388\u001b[0m )\n",
                        "File \u001b[1;32mc:\\Users\\Eliza\\anaconda3\\envs\\info_5612_project\\lib\\site-packages\\tensorflow\\python\\client\\session.py:972\u001b[0m, in \u001b[0;36mBaseSession.run\u001b[1;34m(self, fetches, feed_dict, options, run_metadata)\u001b[0m\n\u001b[0;32m    969\u001b[0m run_metadata_ptr \u001b[39m=\u001b[39m tf_session\u001b[39m.\u001b[39mTF_NewBuffer() \u001b[39mif\u001b[39;00m run_metadata \u001b[39melse\u001b[39;00m \u001b[39mNone\u001b[39;00m\n\u001b[0;32m    971\u001b[0m \u001b[39mtry\u001b[39;00m:\n\u001b[1;32m--> 972\u001b[0m   result \u001b[39m=\u001b[39m \u001b[39mself\u001b[39;49m\u001b[39m.\u001b[39;49m_run(\u001b[39mNone\u001b[39;49;00m, fetches, feed_dict, options_ptr,\n\u001b[0;32m    973\u001b[0m                      run_metadata_ptr)\n\u001b[0;32m    974\u001b[0m   \u001b[39mif\u001b[39;00m run_metadata:\n\u001b[0;32m    975\u001b[0m     proto_data \u001b[39m=\u001b[39m tf_session\u001b[39m.\u001b[39mTF_GetBuffer(run_metadata_ptr)\n",
                        "File \u001b[1;32mc:\\Users\\Eliza\\anaconda3\\envs\\info_5612_project\\lib\\site-packages\\tensorflow\\python\\client\\session.py:1215\u001b[0m, in \u001b[0;36mBaseSession._run\u001b[1;34m(self, handle, fetches, feed_dict, options, run_metadata)\u001b[0m\n\u001b[0;32m   1212\u001b[0m \u001b[39m# We only want to really perform the run if fetches or targets are provided,\u001b[39;00m\n\u001b[0;32m   1213\u001b[0m \u001b[39m# or if the call is a partial run that specifies feeds.\u001b[39;00m\n\u001b[0;32m   1214\u001b[0m \u001b[39mif\u001b[39;00m final_fetches \u001b[39mor\u001b[39;00m final_targets \u001b[39mor\u001b[39;00m (handle \u001b[39mand\u001b[39;00m feed_dict_tensor):\n\u001b[1;32m-> 1215\u001b[0m   results \u001b[39m=\u001b[39m \u001b[39mself\u001b[39;49m\u001b[39m.\u001b[39;49m_do_run(handle, final_targets, final_fetches,\n\u001b[0;32m   1216\u001b[0m                          feed_dict_tensor, options, run_metadata)\n\u001b[0;32m   1217\u001b[0m \u001b[39melse\u001b[39;00m:\n\u001b[0;32m   1218\u001b[0m   results \u001b[39m=\u001b[39m []\n",
                        "File \u001b[1;32mc:\\Users\\Eliza\\anaconda3\\envs\\info_5612_project\\lib\\site-packages\\tensorflow\\python\\client\\session.py:1395\u001b[0m, in \u001b[0;36mBaseSession._do_run\u001b[1;34m(self, handle, target_list, fetch_list, feed_dict, options, run_metadata)\u001b[0m\n\u001b[0;32m   1392\u001b[0m   \u001b[39mreturn\u001b[39;00m \u001b[39mself\u001b[39m\u001b[39m.\u001b[39m_call_tf_sessionprun(handle, feed_dict, fetch_list)\n\u001b[0;32m   1394\u001b[0m \u001b[39mif\u001b[39;00m handle \u001b[39mis\u001b[39;00m \u001b[39mNone\u001b[39;00m:\n\u001b[1;32m-> 1395\u001b[0m   \u001b[39mreturn\u001b[39;00m \u001b[39mself\u001b[39;49m\u001b[39m.\u001b[39;49m_do_call(_run_fn, feeds, fetches, targets, options,\n\u001b[0;32m   1396\u001b[0m                        run_metadata)\n\u001b[0;32m   1397\u001b[0m \u001b[39melse\u001b[39;00m:\n\u001b[0;32m   1398\u001b[0m   \u001b[39mreturn\u001b[39;00m \u001b[39mself\u001b[39m\u001b[39m.\u001b[39m_do_call(_prun_fn, handle, feeds, fetches)\n",
                        "File \u001b[1;32mc:\\Users\\Eliza\\anaconda3\\envs\\info_5612_project\\lib\\site-packages\\tensorflow\\python\\client\\session.py:1402\u001b[0m, in \u001b[0;36mBaseSession._do_call\u001b[1;34m(self, fn, *args)\u001b[0m\n\u001b[0;32m   1400\u001b[0m \u001b[39mdef\u001b[39;00m \u001b[39m_do_call\u001b[39m(\u001b[39mself\u001b[39m, fn, \u001b[39m*\u001b[39margs):\n\u001b[0;32m   1401\u001b[0m   \u001b[39mtry\u001b[39;00m:\n\u001b[1;32m-> 1402\u001b[0m     \u001b[39mreturn\u001b[39;00m fn(\u001b[39m*\u001b[39;49margs)\n\u001b[0;32m   1403\u001b[0m   \u001b[39mexcept\u001b[39;00m errors\u001b[39m.\u001b[39mOpError \u001b[39mas\u001b[39;00m e:\n\u001b[0;32m   1404\u001b[0m     message \u001b[39m=\u001b[39m compat\u001b[39m.\u001b[39mas_text(e\u001b[39m.\u001b[39mmessage)\n",
                        "File \u001b[1;32mc:\\Users\\Eliza\\anaconda3\\envs\\info_5612_project\\lib\\site-packages\\tensorflow\\python\\client\\session.py:1385\u001b[0m, in \u001b[0;36mBaseSession._do_run.<locals>._run_fn\u001b[1;34m(feed_dict, fetch_list, target_list, options, run_metadata)\u001b[0m\n\u001b[0;32m   1382\u001b[0m \u001b[39mdef\u001b[39;00m \u001b[39m_run_fn\u001b[39m(feed_dict, fetch_list, target_list, options, run_metadata):\n\u001b[0;32m   1383\u001b[0m   \u001b[39m# Ensure any changes to the graph are reflected in the runtime.\u001b[39;00m\n\u001b[0;32m   1384\u001b[0m   \u001b[39mself\u001b[39m\u001b[39m.\u001b[39m_extend_graph()\n\u001b[1;32m-> 1385\u001b[0m   \u001b[39mreturn\u001b[39;00m \u001b[39mself\u001b[39;49m\u001b[39m.\u001b[39;49m_call_tf_sessionrun(options, feed_dict, fetch_list,\n\u001b[0;32m   1386\u001b[0m                                   target_list, run_metadata)\n",
                        "File \u001b[1;32mc:\\Users\\Eliza\\anaconda3\\envs\\info_5612_project\\lib\\site-packages\\tensorflow\\python\\client\\session.py:1478\u001b[0m, in \u001b[0;36mBaseSession._call_tf_sessionrun\u001b[1;34m(self, options, feed_dict, fetch_list, target_list, run_metadata)\u001b[0m\n\u001b[0;32m   1476\u001b[0m \u001b[39mdef\u001b[39;00m \u001b[39m_call_tf_sessionrun\u001b[39m(\u001b[39mself\u001b[39m, options, feed_dict, fetch_list, target_list,\n\u001b[0;32m   1477\u001b[0m                         run_metadata):\n\u001b[1;32m-> 1478\u001b[0m   \u001b[39mreturn\u001b[39;00m tf_session\u001b[39m.\u001b[39;49mTF_SessionRun_wrapper(\u001b[39mself\u001b[39;49m\u001b[39m.\u001b[39;49m_session, options, feed_dict,\n\u001b[0;32m   1479\u001b[0m                                           fetch_list, target_list,\n\u001b[0;32m   1480\u001b[0m                                           run_metadata)\n",
                        "\u001b[1;31mKeyboardInterrupt\u001b[0m: "
                    ]
                }
            ],
            "source": [
                "model.fit(train_file, valid_file)"
            ]
        },
        {
            "cell_type": "markdown",
            "metadata": {},
            "source": [
                "## Evaluate the DKN model\n",
                "\n",
                "Now we can check the performance on the test set:"
            ]
        },
        {
            "cell_type": "code",
            "execution_count": null,
            "metadata": {
                "pycharm": {
                    "is_executing": false
                }
            },
            "outputs": [
                {
                    "name": "stdout",
                    "output_type": "stream",
                    "text": [
                        "{'auc': 0.6019, 'group_auc': 0.5905, 'mean_mrr': 0.2122, 'ndcg@5': 0.2169, 'ndcg@10': 0.2768}\n"
                    ]
                }
            ],
            "source": [
                "res = model.run_eval(test_file)\n",
                "print(res)"
            ]
        },
        {
            "cell_type": "code",
            "execution_count": null,
            "metadata": {},
            "outputs": [],
            "source": [
                "preds = model.predict(infile_name=test_file, outfile_name=\"test_preds.csv\")"
            ]
        },
        {
            "cell_type": "code",
            "execution_count": 6,
            "metadata": {},
            "outputs": [
                {
                    "data": {
                        "text/html": [
                            "<div>\n",
                            "<style scoped>\n",
                            "    .dataframe tbody tr th:only-of-type {\n",
                            "        vertical-align: middle;\n",
                            "    }\n",
                            "\n",
                            "    .dataframe tbody tr th {\n",
                            "        vertical-align: top;\n",
                            "    }\n",
                            "\n",
                            "    .dataframe thead th {\n",
                            "        text-align: right;\n",
                            "    }\n",
                            "</style>\n",
                            "<table border=\"1\" class=\"dataframe\">\n",
                            "  <thead>\n",
                            "    <tr style=\"text-align: right;\">\n",
                            "      <th></th>\n",
                            "      <th>label</th>\n",
                            "      <th>user_id</th>\n",
                            "      <th>news_id</th>\n",
                            "      <th>impression_id</th>\n",
                            "    </tr>\n",
                            "  </thead>\n",
                            "  <tbody>\n",
                            "    <tr>\n",
                            "      <th>0</th>\n",
                            "      <td>1</td>\n",
                            "      <td>test_U1</td>\n",
                            "      <td>N7076</td>\n",
                            "      <td>0</td>\n",
                            "    </tr>\n",
                            "    <tr>\n",
                            "      <th>1</th>\n",
                            "      <td>1</td>\n",
                            "      <td>test_U1</td>\n",
                            "      <td>N7102</td>\n",
                            "      <td>0</td>\n",
                            "    </tr>\n",
                            "    <tr>\n",
                            "      <th>2</th>\n",
                            "      <td>1</td>\n",
                            "      <td>test_U1</td>\n",
                            "      <td>N7716</td>\n",
                            "      <td>0</td>\n",
                            "    </tr>\n",
                            "    <tr>\n",
                            "      <th>3</th>\n",
                            "      <td>1</td>\n",
                            "      <td>test_U1</td>\n",
                            "      <td>N7490</td>\n",
                            "      <td>0</td>\n",
                            "    </tr>\n",
                            "    <tr>\n",
                            "      <th>4</th>\n",
                            "      <td>0</td>\n",
                            "      <td>test_U1</td>\n",
                            "      <td>N5282</td>\n",
                            "      <td>0</td>\n",
                            "    </tr>\n",
                            "    <tr>\n",
                            "      <th>...</th>\n",
                            "      <td>...</td>\n",
                            "      <td>...</td>\n",
                            "      <td>...</td>\n",
                            "      <td>...</td>\n",
                            "    </tr>\n",
                            "    <tr>\n",
                            "      <th>20417</th>\n",
                            "      <td>0</td>\n",
                            "      <td>test_U498</td>\n",
                            "      <td>N7102</td>\n",
                            "      <td>423</td>\n",
                            "    </tr>\n",
                            "    <tr>\n",
                            "      <th>20418</th>\n",
                            "      <td>0</td>\n",
                            "      <td>test_U498</td>\n",
                            "      <td>N7283</td>\n",
                            "      <td>423</td>\n",
                            "    </tr>\n",
                            "    <tr>\n",
                            "      <th>20419</th>\n",
                            "      <td>0</td>\n",
                            "      <td>test_U498</td>\n",
                            "      <td>N7413</td>\n",
                            "      <td>423</td>\n",
                            "    </tr>\n",
                            "    <tr>\n",
                            "      <th>20420</th>\n",
                            "      <td>0</td>\n",
                            "      <td>test_U498</td>\n",
                            "      <td>N7209</td>\n",
                            "      <td>423</td>\n",
                            "    </tr>\n",
                            "    <tr>\n",
                            "      <th>20421</th>\n",
                            "      <td>0</td>\n",
                            "      <td>test_U498</td>\n",
                            "      <td>N32</td>\n",
                            "      <td>423</td>\n",
                            "    </tr>\n",
                            "  </tbody>\n",
                            "</table>\n",
                            "<p>20422 rows × 4 columns</p>\n",
                            "</div>"
                        ],
                        "text/plain": [
                            "       label    user_id news_id impression_id\n",
                            "0          1    test_U1   N7076             0\n",
                            "1          1    test_U1   N7102             0\n",
                            "2          1    test_U1   N7716             0\n",
                            "3          1    test_U1   N7490             0\n",
                            "4          0    test_U1   N5282             0\n",
                            "...      ...        ...     ...           ...\n",
                            "20417      0  test_U498   N7102           423\n",
                            "20418      0  test_U498   N7283           423\n",
                            "20419      0  test_U498   N7413           423\n",
                            "20420      0  test_U498   N7209           423\n",
                            "20421      0  test_U498     N32           423\n",
                            "\n",
                            "[20422 rows x 4 columns]"
                        ]
                    },
                    "execution_count": 6,
                    "metadata": {},
                    "output_type": "execute_result"
                }
            ],
            "source": [
                "df = pd.read_csv(test_file, \" \", header=None).rename(columns={0: \"label\", 1: \"user_id\", 2: \"news_id_and_impression_id\"})\n",
                "df[\"news_id\"] = df[\"news_id_and_impression_id\"].apply(lambda x: str(x).split(\"%\")[0])\n",
                "df[\"impression_id\"] = df[\"news_id_and_impression_id\"].apply(lambda x: str(x).split(\"%\")[1])\n",
                "df = df.drop([\"news_id_and_impression_id\"], axis=1)\n",
                "df"
            ]
        },
        {
            "cell_type": "code",
            "execution_count": 35,
            "metadata": {},
            "outputs": [
                {
                    "data": {
                        "text/html": [
                            "<div>\n",
                            "<style scoped>\n",
                            "    .dataframe tbody tr th:only-of-type {\n",
                            "        vertical-align: middle;\n",
                            "    }\n",
                            "\n",
                            "    .dataframe tbody tr th {\n",
                            "        vertical-align: top;\n",
                            "    }\n",
                            "\n",
                            "    .dataframe thead th {\n",
                            "        text-align: right;\n",
                            "    }\n",
                            "</style>\n",
                            "<table border=\"1\" class=\"dataframe\">\n",
                            "  <thead>\n",
                            "    <tr style=\"text-align: right;\">\n",
                            "      <th></th>\n",
                            "      <th>label</th>\n",
                            "      <th>user_id</th>\n",
                            "      <th>news_id</th>\n",
                            "      <th>impression_id</th>\n",
                            "      <th>pred</th>\n",
                            "    </tr>\n",
                            "  </thead>\n",
                            "  <tbody>\n",
                            "    <tr>\n",
                            "      <th>0</th>\n",
                            "      <td>1</td>\n",
                            "      <td>test_U1</td>\n",
                            "      <td>N7076</td>\n",
                            "      <td>0</td>\n",
                            "      <td>0.177532</td>\n",
                            "    </tr>\n",
                            "    <tr>\n",
                            "      <th>1</th>\n",
                            "      <td>1</td>\n",
                            "      <td>test_U1</td>\n",
                            "      <td>N7102</td>\n",
                            "      <td>0</td>\n",
                            "      <td>0.523582</td>\n",
                            "    </tr>\n",
                            "    <tr>\n",
                            "      <th>2</th>\n",
                            "      <td>1</td>\n",
                            "      <td>test_U1</td>\n",
                            "      <td>N7716</td>\n",
                            "      <td>0</td>\n",
                            "      <td>0.539351</td>\n",
                            "    </tr>\n",
                            "    <tr>\n",
                            "      <th>3</th>\n",
                            "      <td>1</td>\n",
                            "      <td>test_U1</td>\n",
                            "      <td>N7490</td>\n",
                            "      <td>0</td>\n",
                            "      <td>0.076353</td>\n",
                            "    </tr>\n",
                            "    <tr>\n",
                            "      <th>4</th>\n",
                            "      <td>0</td>\n",
                            "      <td>test_U1</td>\n",
                            "      <td>N5282</td>\n",
                            "      <td>0</td>\n",
                            "      <td>0.210769</td>\n",
                            "    </tr>\n",
                            "    <tr>\n",
                            "      <th>...</th>\n",
                            "      <td>...</td>\n",
                            "      <td>...</td>\n",
                            "      <td>...</td>\n",
                            "      <td>...</td>\n",
                            "      <td>...</td>\n",
                            "    </tr>\n",
                            "    <tr>\n",
                            "      <th>20417</th>\n",
                            "      <td>0</td>\n",
                            "      <td>test_U498</td>\n",
                            "      <td>N7102</td>\n",
                            "      <td>423</td>\n",
                            "      <td>0.321095</td>\n",
                            "    </tr>\n",
                            "    <tr>\n",
                            "      <th>20418</th>\n",
                            "      <td>0</td>\n",
                            "      <td>test_U498</td>\n",
                            "      <td>N7283</td>\n",
                            "      <td>423</td>\n",
                            "      <td>0.446874</td>\n",
                            "    </tr>\n",
                            "    <tr>\n",
                            "      <th>20419</th>\n",
                            "      <td>0</td>\n",
                            "      <td>test_U498</td>\n",
                            "      <td>N7413</td>\n",
                            "      <td>423</td>\n",
                            "      <td>0.203353</td>\n",
                            "    </tr>\n",
                            "    <tr>\n",
                            "      <th>20420</th>\n",
                            "      <td>0</td>\n",
                            "      <td>test_U498</td>\n",
                            "      <td>N7209</td>\n",
                            "      <td>423</td>\n",
                            "      <td>0.357812</td>\n",
                            "    </tr>\n",
                            "    <tr>\n",
                            "      <th>20421</th>\n",
                            "      <td>0</td>\n",
                            "      <td>test_U498</td>\n",
                            "      <td>N32</td>\n",
                            "      <td>423</td>\n",
                            "      <td>0.829932</td>\n",
                            "    </tr>\n",
                            "  </tbody>\n",
                            "</table>\n",
                            "<p>20422 rows × 5 columns</p>\n",
                            "</div>"
                        ],
                        "text/plain": [
                            "       label    user_id news_id impression_id      pred\n",
                            "0          1    test_U1   N7076             0  0.177532\n",
                            "1          1    test_U1   N7102             0  0.523582\n",
                            "2          1    test_U1   N7716             0  0.539351\n",
                            "3          1    test_U1   N7490             0  0.076353\n",
                            "4          0    test_U1   N5282             0  0.210769\n",
                            "...      ...        ...     ...           ...       ...\n",
                            "20417      0  test_U498   N7102           423  0.321095\n",
                            "20418      0  test_U498   N7283           423  0.446874\n",
                            "20419      0  test_U498   N7413           423  0.203353\n",
                            "20420      0  test_U498   N7209           423  0.357812\n",
                            "20421      0  test_U498     N32           423  0.829932\n",
                            "\n",
                            "[20422 rows x 5 columns]"
                        ]
                    },
                    "execution_count": 35,
                    "metadata": {},
                    "output_type": "execute_result"
                }
            ],
            "source": [
                "preds = pd.read_csv(\"test_preds.csv\", header = None).rename(columns={0: \"pred\"})\n",
                "full_df = pd.concat([df, preds], axis=1)\n",
                "full_df"
            ]
        },
        {
            "cell_type": "markdown",
            "metadata": {},
            "source": [
                "How do they actually construct their lists? What threshold do they use? Or do they just get all the predictions for a user, sort it, and take the top 5 or 10?\n",
                "\n",
                "I attempted with the below but does this mean that the recommender is super wrong because those all have labels 0.....?"
            ]
        },
        {
            "cell_type": "code",
            "execution_count": 36,
            "metadata": {},
            "outputs": [
                {
                    "data": {
                        "text/html": [
                            "<div>\n",
                            "<style scoped>\n",
                            "    .dataframe tbody tr th:only-of-type {\n",
                            "        vertical-align: middle;\n",
                            "    }\n",
                            "\n",
                            "    .dataframe tbody tr th {\n",
                            "        vertical-align: top;\n",
                            "    }\n",
                            "\n",
                            "    .dataframe thead th {\n",
                            "        text-align: right;\n",
                            "    }\n",
                            "</style>\n",
                            "<table border=\"1\" class=\"dataframe\">\n",
                            "  <thead>\n",
                            "    <tr style=\"text-align: right;\">\n",
                            "      <th></th>\n",
                            "      <th>label</th>\n",
                            "      <th>user_id</th>\n",
                            "      <th>news_id</th>\n",
                            "      <th>impression_id</th>\n",
                            "      <th>pred</th>\n",
                            "    </tr>\n",
                            "  </thead>\n",
                            "  <tbody>\n",
                            "    <tr>\n",
                            "      <th>51</th>\n",
                            "      <td>0</td>\n",
                            "      <td>test_U1</td>\n",
                            "      <td>N7525</td>\n",
                            "      <td>0</td>\n",
                            "      <td>0.940276</td>\n",
                            "    </tr>\n",
                            "    <tr>\n",
                            "      <th>21</th>\n",
                            "      <td>0</td>\n",
                            "      <td>test_U1</td>\n",
                            "      <td>N6047</td>\n",
                            "      <td>0</td>\n",
                            "      <td>0.862245</td>\n",
                            "    </tr>\n",
                            "    <tr>\n",
                            "      <th>71</th>\n",
                            "      <td>0</td>\n",
                            "      <td>test_U1</td>\n",
                            "      <td>N32</td>\n",
                            "      <td>0</td>\n",
                            "      <td>0.853361</td>\n",
                            "    </tr>\n",
                            "    <tr>\n",
                            "      <th>12</th>\n",
                            "      <td>0</td>\n",
                            "      <td>test_U1</td>\n",
                            "      <td>N8046</td>\n",
                            "      <td>0</td>\n",
                            "      <td>0.787078</td>\n",
                            "    </tr>\n",
                            "    <tr>\n",
                            "      <th>31</th>\n",
                            "      <td>0</td>\n",
                            "      <td>test_U1</td>\n",
                            "      <td>N7035</td>\n",
                            "      <td>0</td>\n",
                            "      <td>0.700595</td>\n",
                            "    </tr>\n",
                            "  </tbody>\n",
                            "</table>\n",
                            "</div>"
                        ],
                        "text/plain": [
                            "    label  user_id news_id impression_id      pred\n",
                            "51      0  test_U1   N7525             0  0.940276\n",
                            "21      0  test_U1   N6047             0  0.862245\n",
                            "71      0  test_U1     N32             0  0.853361\n",
                            "12      0  test_U1   N8046             0  0.787078\n",
                            "31      0  test_U1   N7035             0  0.700595"
                        ]
                    },
                    "execution_count": 36,
                    "metadata": {},
                    "output_type": "execute_result"
                }
            ],
            "source": [
                "#full_df[full_df[\"user_id\"] == \"test_U1\"].sort_values(\"pred\", ascending=False).head()\n",
                "full_df[full_df[\"user_id\"] == \"test_U1\"].nlargest(5, columns=\"pred\")"
            ]
        },
        {
            "cell_type": "code",
            "execution_count": 37,
            "metadata": {},
            "outputs": [
                {
                    "data": {
                        "text/html": [
                            "<div>\n",
                            "<style scoped>\n",
                            "    .dataframe tbody tr th:only-of-type {\n",
                            "        vertical-align: middle;\n",
                            "    }\n",
                            "\n",
                            "    .dataframe tbody tr th {\n",
                            "        vertical-align: top;\n",
                            "    }\n",
                            "\n",
                            "    .dataframe thead th {\n",
                            "        text-align: right;\n",
                            "    }\n",
                            "</style>\n",
                            "<table border=\"1\" class=\"dataframe\">\n",
                            "  <thead>\n",
                            "    <tr style=\"text-align: right;\">\n",
                            "      <th></th>\n",
                            "      <th>label</th>\n",
                            "      <th>user_id</th>\n",
                            "      <th>news_id</th>\n",
                            "      <th>impression_id</th>\n",
                            "      <th>pred</th>\n",
                            "    </tr>\n",
                            "  </thead>\n",
                            "  <tbody>\n",
                            "    <tr>\n",
                            "      <th>3595</th>\n",
                            "      <td>0</td>\n",
                            "      <td>test_U99</td>\n",
                            "      <td>N5390</td>\n",
                            "      <td>72</td>\n",
                            "      <td>0.675842</td>\n",
                            "    </tr>\n",
                            "    <tr>\n",
                            "      <th>3507</th>\n",
                            "      <td>0</td>\n",
                            "      <td>test_U99</td>\n",
                            "      <td>N32</td>\n",
                            "      <td>71</td>\n",
                            "      <td>0.599789</td>\n",
                            "    </tr>\n",
                            "    <tr>\n",
                            "      <th>3558</th>\n",
                            "      <td>0</td>\n",
                            "      <td>test_U99</td>\n",
                            "      <td>N7525</td>\n",
                            "      <td>71</td>\n",
                            "      <td>0.578578</td>\n",
                            "    </tr>\n",
                            "    <tr>\n",
                            "      <th>3532</th>\n",
                            "      <td>0</td>\n",
                            "      <td>test_U99</td>\n",
                            "      <td>N8416</td>\n",
                            "      <td>71</td>\n",
                            "      <td>0.311621</td>\n",
                            "    </tr>\n",
                            "    <tr>\n",
                            "      <th>3584</th>\n",
                            "      <td>0</td>\n",
                            "      <td>test_U99</td>\n",
                            "      <td>N5510</td>\n",
                            "      <td>72</td>\n",
                            "      <td>0.310242</td>\n",
                            "    </tr>\n",
                            "    <tr>\n",
                            "      <th>...</th>\n",
                            "      <td>...</td>\n",
                            "      <td>...</td>\n",
                            "      <td>...</td>\n",
                            "      <td>...</td>\n",
                            "      <td>...</td>\n",
                            "    </tr>\n",
                            "    <tr>\n",
                            "      <th>3</th>\n",
                            "      <td>1</td>\n",
                            "      <td>test_U1</td>\n",
                            "      <td>N7490</td>\n",
                            "      <td>0</td>\n",
                            "      <td>0.076353</td>\n",
                            "    </tr>\n",
                            "    <tr>\n",
                            "      <th>67</th>\n",
                            "      <td>0</td>\n",
                            "      <td>test_U1</td>\n",
                            "      <td>N5532</td>\n",
                            "      <td>0</td>\n",
                            "      <td>0.072969</td>\n",
                            "    </tr>\n",
                            "    <tr>\n",
                            "      <th>53</th>\n",
                            "      <td>0</td>\n",
                            "      <td>test_U1</td>\n",
                            "      <td>N7534</td>\n",
                            "      <td>0</td>\n",
                            "      <td>0.071585</td>\n",
                            "    </tr>\n",
                            "    <tr>\n",
                            "      <th>60</th>\n",
                            "      <td>0</td>\n",
                            "      <td>test_U1</td>\n",
                            "      <td>N9110</td>\n",
                            "      <td>0</td>\n",
                            "      <td>0.060192</td>\n",
                            "    </tr>\n",
                            "    <tr>\n",
                            "      <th>30</th>\n",
                            "      <td>0</td>\n",
                            "      <td>test_U1</td>\n",
                            "      <td>N6658</td>\n",
                            "      <td>0</td>\n",
                            "      <td>0.037560</td>\n",
                            "    </tr>\n",
                            "  </tbody>\n",
                            "</table>\n",
                            "<p>20422 rows × 5 columns</p>\n",
                            "</div>"
                        ],
                        "text/plain": [
                            "      label   user_id news_id impression_id      pred\n",
                            "3595      0  test_U99   N5390            72  0.675842\n",
                            "3507      0  test_U99     N32            71  0.599789\n",
                            "3558      0  test_U99   N7525            71  0.578578\n",
                            "3532      0  test_U99   N8416            71  0.311621\n",
                            "3584      0  test_U99   N5510            72  0.310242\n",
                            "...     ...       ...     ...           ...       ...\n",
                            "3         1   test_U1   N7490             0  0.076353\n",
                            "67        0   test_U1   N5532             0  0.072969\n",
                            "53        0   test_U1   N7534             0  0.071585\n",
                            "60        0   test_U1   N9110             0  0.060192\n",
                            "30        0   test_U1   N6658             0  0.037560\n",
                            "\n",
                            "[20422 rows x 5 columns]"
                        ]
                    },
                    "execution_count": 37,
                    "metadata": {},
                    "output_type": "execute_result"
                }
            ],
            "source": [
                "full_df = full_df.sort_values([\"user_id\", \"pred\"], ascending=False)\n",
                "full_df"
            ]
        },
        {
            "cell_type": "code",
            "execution_count": 52,
            "metadata": {},
            "outputs": [
                {
                    "data": {
                        "text/html": [
                            "<div>\n",
                            "<style scoped>\n",
                            "    .dataframe tbody tr th:only-of-type {\n",
                            "        vertical-align: middle;\n",
                            "    }\n",
                            "\n",
                            "    .dataframe tbody tr th {\n",
                            "        vertical-align: top;\n",
                            "    }\n",
                            "\n",
                            "    .dataframe thead th {\n",
                            "        text-align: right;\n",
                            "    }\n",
                            "</style>\n",
                            "<table border=\"1\" class=\"dataframe\">\n",
                            "  <thead>\n",
                            "    <tr style=\"text-align: right;\">\n",
                            "      <th></th>\n",
                            "      <th>news_id</th>\n",
                            "      <th>pred</th>\n",
                            "    </tr>\n",
                            "    <tr>\n",
                            "      <th>user_id</th>\n",
                            "      <th></th>\n",
                            "      <th></th>\n",
                            "    </tr>\n",
                            "  </thead>\n",
                            "  <tbody>\n",
                            "    <tr>\n",
                            "      <th>test_U1</th>\n",
                            "      <td>[N7525, N6047, N32, N8046, N7035, N6323, N7727...</td>\n",
                            "      <td>[0.9402764, 0.8622448, 0.85336107, 0.7870782, ...</td>\n",
                            "    </tr>\n",
                            "    <tr>\n",
                            "      <th>test_U10</th>\n",
                            "      <td>[N7325, N7765, N5777, N7283, N8423, N8423, N68...</td>\n",
                            "      <td>[0.5895697, 0.5687929, 0.5297649, 0.51531017, ...</td>\n",
                            "    </tr>\n",
                            "    <tr>\n",
                            "      <th>test_U100</th>\n",
                            "      <td>[N32, N7419, N7102, N5883, N6672, N8219, N7716...</td>\n",
                            "      <td>[0.57836336, 0.33195335, 0.24049465, 0.2226193...</td>\n",
                            "    </tr>\n",
                            "    <tr>\n",
                            "      <th>test_U101</th>\n",
                            "      <td>[N32, N6369, N7419, N7716, N7283, N6672, N6417...</td>\n",
                            "      <td>[0.32904655, 0.11326947, 0.11131217, 0.1069895...</td>\n",
                            "    </tr>\n",
                            "    <tr>\n",
                            "      <th>test_U102</th>\n",
                            "      <td>[N7325, N7325, N7206, N7206, N5405, N5405, N55...</td>\n",
                            "      <td>[0.63844717, 0.63844717, 0.60617846, 0.6061784...</td>\n",
                            "    </tr>\n",
                            "    <tr>\n",
                            "      <th>...</th>\n",
                            "      <td>...</td>\n",
                            "      <td>...</td>\n",
                            "    </tr>\n",
                            "    <tr>\n",
                            "      <th>test_U94</th>\n",
                            "      <td>[N6121, N6883, N5710, N32, N32, N32, N8167, N6...</td>\n",
                            "      <td>[0.80225945, 0.79154, 0.71537554, 0.6667554, 0...</td>\n",
                            "    </tr>\n",
                            "    <tr>\n",
                            "      <th>test_U96</th>\n",
                            "      <td>[N7525, N6883, N32, N32, N6323, N6218, N6622, ...</td>\n",
                            "      <td>[0.90868694, 0.8126242, 0.7471411, 0.7471411, ...</td>\n",
                            "    </tr>\n",
                            "    <tr>\n",
                            "      <th>test_U97</th>\n",
                            "      <td>[N32, N7525, N6323, N5510, N5405, N7359, N7035...</td>\n",
                            "      <td>[0.75885576, 0.6719303, 0.48816162, 0.42869627...</td>\n",
                            "    </tr>\n",
                            "    <tr>\n",
                            "      <th>test_U98</th>\n",
                            "      <td>[N32, N32, N32, N7525, N7525, N8046, N6622, N6...</td>\n",
                            "      <td>[0.86075646, 0.86075646, 0.86075646, 0.8007161...</td>\n",
                            "    </tr>\n",
                            "    <tr>\n",
                            "      <th>test_U99</th>\n",
                            "      <td>[N5390, N32, N7525, N8416, N5510, N8046, N7241...</td>\n",
                            "      <td>[0.67584187, 0.5997894, 0.57857823, 0.31162128...</td>\n",
                            "    </tr>\n",
                            "  </tbody>\n",
                            "</table>\n",
                            "<p>261 rows × 2 columns</p>\n",
                            "</div>"
                        ],
                        "text/plain": [
                            "                                                     news_id  \\\n",
                            "user_id                                                        \n",
                            "test_U1    [N7525, N6047, N32, N8046, N7035, N6323, N7727...   \n",
                            "test_U10   [N7325, N7765, N5777, N7283, N8423, N8423, N68...   \n",
                            "test_U100  [N32, N7419, N7102, N5883, N6672, N8219, N7716...   \n",
                            "test_U101  [N32, N6369, N7419, N7716, N7283, N6672, N6417...   \n",
                            "test_U102  [N7325, N7325, N7206, N7206, N5405, N5405, N55...   \n",
                            "...                                                      ...   \n",
                            "test_U94   [N6121, N6883, N5710, N32, N32, N32, N8167, N6...   \n",
                            "test_U96   [N7525, N6883, N32, N32, N6323, N6218, N6622, ...   \n",
                            "test_U97   [N32, N7525, N6323, N5510, N5405, N7359, N7035...   \n",
                            "test_U98   [N32, N32, N32, N7525, N7525, N8046, N6622, N6...   \n",
                            "test_U99   [N5390, N32, N7525, N8416, N5510, N8046, N7241...   \n",
                            "\n",
                            "                                                        pred  \n",
                            "user_id                                                       \n",
                            "test_U1    [0.9402764, 0.8622448, 0.85336107, 0.7870782, ...  \n",
                            "test_U10   [0.5895697, 0.5687929, 0.5297649, 0.51531017, ...  \n",
                            "test_U100  [0.57836336, 0.33195335, 0.24049465, 0.2226193...  \n",
                            "test_U101  [0.32904655, 0.11326947, 0.11131217, 0.1069895...  \n",
                            "test_U102  [0.63844717, 0.63844717, 0.60617846, 0.6061784...  \n",
                            "...                                                      ...  \n",
                            "test_U94   [0.80225945, 0.79154, 0.71537554, 0.6667554, 0...  \n",
                            "test_U96   [0.90868694, 0.8126242, 0.7471411, 0.7471411, ...  \n",
                            "test_U97   [0.75885576, 0.6719303, 0.48816162, 0.42869627...  \n",
                            "test_U98   [0.86075646, 0.86075646, 0.86075646, 0.8007161...  \n",
                            "test_U99   [0.67584187, 0.5997894, 0.57857823, 0.31162128...  \n",
                            "\n",
                            "[261 rows x 2 columns]"
                        ]
                    },
                    "execution_count": 52,
                    "metadata": {},
                    "output_type": "execute_result"
                }
            ],
            "source": [
                "# construct lists\n",
                "user_recs = full_df.groupby(\"user_id\").agg({\"news_id\": list, \"pred\": list})\n",
                "user_recs"
            ]
        },
        {
            "cell_type": "code",
            "execution_count": 39,
            "metadata": {},
            "outputs": [
                {
                    "data": {
                        "text/plain": [
                            "user_id\n",
                            "test_U1      0.025974\n",
                            "test_U10     0.012500\n",
                            "test_U100    0.000000\n",
                            "test_U101    0.000000\n",
                            "test_U102    0.004739\n",
                            "               ...   \n",
                            "test_U94     0.006479\n",
                            "test_U96     0.008811\n",
                            "test_U97     0.000000\n",
                            "test_U98     0.000000\n",
                            "test_U99     0.000000\n",
                            "Name: correct, Length: 261, dtype: float64"
                        ]
                    },
                    "execution_count": 39,
                    "metadata": {},
                    "output_type": "execute_result"
                }
            ],
            "source": [
                "full_df[\"correct\"] = full_df.apply(lambda x: x[\"pred\"] > 0.5 and x[\"label\"] == 1, axis=1)\n",
                "num_correct = full_df.groupby(\"user_id\")[\"correct\"].mean()\n",
                "num_correct"
            ]
        },
        {
            "cell_type": "markdown",
            "metadata": {},
            "source": [
                "Question for our re-ranker: do we assume that baseline takes the top k recommendations based on their prediction score, and we also take those top k and just rearrange them (wouldn't affect accuracy but would affect ndcg)? Or, do we take all the potential recommendations (which would then actually be completely independent from the baseline model) and rank them ourselves? The second, then, is not so much a re-ranking as just a ranking. Or a different model just based on diversity....\n"
            ]
        },
        {
            "cell_type": "markdown",
            "metadata": {},
            "source": [
                "## Re-ranker"
            ]
        },
        {
            "cell_type": "code",
            "execution_count": 75,
            "metadata": {},
            "outputs": [
                {
                    "name": "stdout",
                    "output_type": "stream",
                    "text": [
                        "Bypassing download of already-downloaded file MINDsmall_dev.zip\n"
                    ]
                }
            ],
            "source": [
                "import os\n",
                "import tempfile\n",
                "import urllib\n",
                "import zipfile\n",
                "\n",
                "# Temporary folder for data we need during execution of this notebook (we'll clean up\n",
                "# at the end, we promise)\n",
                "temp_dir = os.path.join(tempfile.gettempdir(), 'mind')\n",
                "os.makedirs(temp_dir, exist_ok=True)\n",
                "\n",
                "# The dataset is split into training and validation set, each with a large and small version.\n",
                "# The format of the four files are the same.\n",
                "# For demonstration purpose, we will use small version validation set only.\n",
                "base_url = 'https://mind201910small.blob.core.windows.net/release'\n",
                "training_small_url = f'{base_url}/MINDsmall_train.zip'\n",
                "validation_small_url = f'{base_url}/MINDsmall_dev.zip'\n",
                "training_large_url = f'{base_url}/MINDlarge_train.zip'\n",
                "validation_large_url = f'{base_url}/MINDlarge_dev.zip'\n",
                "\n",
                "def download_url(url,\n",
                "                 destination_filename=None,\n",
                "                 progress_updater=None,\n",
                "                 force_download=False,\n",
                "                 verbose=True):\n",
                "    \"\"\"\n",
                "    Download a URL to a temporary file\n",
                "    \"\"\"\n",
                "    if not verbose:\n",
                "        progress_updater = None\n",
                "    # This is not intended to guarantee uniqueness, we just know it happens to guarantee\n",
                "    # uniqueness for this application.\n",
                "    if destination_filename is None:\n",
                "        url_as_filename = url.replace('://', '_').replace('/', '_')\n",
                "        destination_filename = \\\n",
                "            os.path.join(temp_dir,url_as_filename)\n",
                "    if (not force_download) and (os.path.isfile(destination_filename)):\n",
                "        if verbose:\n",
                "            print('Bypassing download of already-downloaded file {}'.format(\n",
                "                os.path.basename(url)))\n",
                "        return destination_filename\n",
                "    if verbose:\n",
                "        print('Downloading file {} to {}'.format(os.path.basename(url),\n",
                "                                                 destination_filename),\n",
                "              end='')\n",
                "    urllib.request.urlretrieve(url, destination_filename, progress_updater)\n",
                "    assert (os.path.isfile(destination_filename))\n",
                "    nBytes = os.path.getsize(destination_filename)\n",
                "    if verbose:\n",
                "        print('...done, {} bytes.'.format(nBytes))\n",
                "    return destination_filename\n",
                "\n",
                "zip_path = download_url(validation_small_url, verbose=True)\n",
                "with zipfile.ZipFile(zip_path, 'r') as zip_ref:\n",
                "    zip_ref.extractall(temp_dir)\n",
                "\n",
                "os.listdir(temp_dir)\n",
                "\n",
                "news_path = os.path.join(temp_dir, 'news.tsv')\n",
                "news_df = pd.read_table(news_path,\n",
                "              header=None,\n",
                "              names=[\n",
                "                  'id', 'category', 'subcategory', 'title', 'abstract', 'url',\n",
                "                  'title_entities', 'abstract_entities'\n",
                "              ])\n",
                "\n"
            ]
        },
        {
            "cell_type": "code",
            "execution_count": 76,
            "metadata": {},
            "outputs": [
                {
                    "data": {
                        "text/html": [
                            "<div>\n",
                            "<style scoped>\n",
                            "    .dataframe tbody tr th:only-of-type {\n",
                            "        vertical-align: middle;\n",
                            "    }\n",
                            "\n",
                            "    .dataframe tbody tr th {\n",
                            "        vertical-align: top;\n",
                            "    }\n",
                            "\n",
                            "    .dataframe thead th {\n",
                            "        text-align: right;\n",
                            "    }\n",
                            "</style>\n",
                            "<table border=\"1\" class=\"dataframe\">\n",
                            "  <thead>\n",
                            "    <tr style=\"text-align: right;\">\n",
                            "      <th></th>\n",
                            "      <th>category</th>\n",
                            "      <th>subcategory</th>\n",
                            "      <th>title</th>\n",
                            "      <th>abstract</th>\n",
                            "      <th>url</th>\n",
                            "      <th>title_entities</th>\n",
                            "      <th>abstract_entities</th>\n",
                            "    </tr>\n",
                            "    <tr>\n",
                            "      <th>id</th>\n",
                            "      <th></th>\n",
                            "      <th></th>\n",
                            "      <th></th>\n",
                            "      <th></th>\n",
                            "      <th></th>\n",
                            "      <th></th>\n",
                            "      <th></th>\n",
                            "    </tr>\n",
                            "  </thead>\n",
                            "  <tbody>\n",
                            "    <tr>\n",
                            "      <th>N55528</th>\n",
                            "      <td>lifestyle</td>\n",
                            "      <td>lifestyleroyals</td>\n",
                            "      <td>The Brands Queen Elizabeth, Prince Charles, an...</td>\n",
                            "      <td>Shop the notebooks, jackets, and more that the...</td>\n",
                            "      <td>https://assets.msn.com/labs/mind/AAGH0ET.html</td>\n",
                            "      <td>[{\"Label\": \"Prince Philip, Duke of Edinburgh\",...</td>\n",
                            "      <td>[]</td>\n",
                            "    </tr>\n",
                            "    <tr>\n",
                            "      <th>N18955</th>\n",
                            "      <td>health</td>\n",
                            "      <td>medical</td>\n",
                            "      <td>Dispose of unwanted prescription drugs during ...</td>\n",
                            "      <td>NaN</td>\n",
                            "      <td>https://assets.msn.com/labs/mind/AAISxPN.html</td>\n",
                            "      <td>[{\"Label\": \"Drug Enforcement Administration\", ...</td>\n",
                            "      <td>[]</td>\n",
                            "    </tr>\n",
                            "    <tr>\n",
                            "      <th>N61837</th>\n",
                            "      <td>news</td>\n",
                            "      <td>newsworld</td>\n",
                            "      <td>The Cost of Trump's Aid Freeze in the Trenches...</td>\n",
                            "      <td>Lt. Ivan Molchanets peeked over a parapet of s...</td>\n",
                            "      <td>https://assets.msn.com/labs/mind/AAJgNsz.html</td>\n",
                            "      <td>[]</td>\n",
                            "      <td>[{\"Label\": \"Ukraine\", \"Type\": \"G\", \"WikidataId...</td>\n",
                            "    </tr>\n",
                            "    <tr>\n",
                            "      <th>N53526</th>\n",
                            "      <td>health</td>\n",
                            "      <td>voices</td>\n",
                            "      <td>I Was An NBA Wife. Here's How It Affected My M...</td>\n",
                            "      <td>I felt like I was a fraud, and being an NBA wi...</td>\n",
                            "      <td>https://assets.msn.com/labs/mind/AACk2N6.html</td>\n",
                            "      <td>[]</td>\n",
                            "      <td>[{\"Label\": \"National Basketball Association\", ...</td>\n",
                            "    </tr>\n",
                            "    <tr>\n",
                            "      <th>N38324</th>\n",
                            "      <td>health</td>\n",
                            "      <td>medical</td>\n",
                            "      <td>How to Get Rid of Skin Tags, According to a De...</td>\n",
                            "      <td>They seem harmless, but there's a very good re...</td>\n",
                            "      <td>https://assets.msn.com/labs/mind/AAAKEkt.html</td>\n",
                            "      <td>[{\"Label\": \"Skin tag\", \"Type\": \"C\", \"WikidataI...</td>\n",
                            "      <td>[{\"Label\": \"Skin tag\", \"Type\": \"C\", \"WikidataI...</td>\n",
                            "    </tr>\n",
                            "  </tbody>\n",
                            "</table>\n",
                            "</div>"
                        ],
                        "text/plain": [
                            "         category      subcategory  \\\n",
                            "id                                   \n",
                            "N55528  lifestyle  lifestyleroyals   \n",
                            "N18955     health          medical   \n",
                            "N61837       news        newsworld   \n",
                            "N53526     health           voices   \n",
                            "N38324     health          medical   \n",
                            "\n",
                            "                                                    title  \\\n",
                            "id                                                          \n",
                            "N55528  The Brands Queen Elizabeth, Prince Charles, an...   \n",
                            "N18955  Dispose of unwanted prescription drugs during ...   \n",
                            "N61837  The Cost of Trump's Aid Freeze in the Trenches...   \n",
                            "N53526  I Was An NBA Wife. Here's How It Affected My M...   \n",
                            "N38324  How to Get Rid of Skin Tags, According to a De...   \n",
                            "\n",
                            "                                                 abstract  \\\n",
                            "id                                                          \n",
                            "N55528  Shop the notebooks, jackets, and more that the...   \n",
                            "N18955                                                NaN   \n",
                            "N61837  Lt. Ivan Molchanets peeked over a parapet of s...   \n",
                            "N53526  I felt like I was a fraud, and being an NBA wi...   \n",
                            "N38324  They seem harmless, but there's a very good re...   \n",
                            "\n",
                            "                                                  url  \\\n",
                            "id                                                      \n",
                            "N55528  https://assets.msn.com/labs/mind/AAGH0ET.html   \n",
                            "N18955  https://assets.msn.com/labs/mind/AAISxPN.html   \n",
                            "N61837  https://assets.msn.com/labs/mind/AAJgNsz.html   \n",
                            "N53526  https://assets.msn.com/labs/mind/AACk2N6.html   \n",
                            "N38324  https://assets.msn.com/labs/mind/AAAKEkt.html   \n",
                            "\n",
                            "                                           title_entities  \\\n",
                            "id                                                          \n",
                            "N55528  [{\"Label\": \"Prince Philip, Duke of Edinburgh\",...   \n",
                            "N18955  [{\"Label\": \"Drug Enforcement Administration\", ...   \n",
                            "N61837                                                 []   \n",
                            "N53526                                                 []   \n",
                            "N38324  [{\"Label\": \"Skin tag\", \"Type\": \"C\", \"WikidataI...   \n",
                            "\n",
                            "                                        abstract_entities  \n",
                            "id                                                         \n",
                            "N55528                                                 []  \n",
                            "N18955                                                 []  \n",
                            "N61837  [{\"Label\": \"Ukraine\", \"Type\": \"G\", \"WikidataId...  \n",
                            "N53526  [{\"Label\": \"National Basketball Association\", ...  \n",
                            "N38324  [{\"Label\": \"Skin tag\", \"Type\": \"C\", \"WikidataI...  "
                        ]
                    },
                    "execution_count": 76,
                    "metadata": {},
                    "output_type": "execute_result"
                }
            ],
            "source": [
                "news_df.set_index(\"id\", inplace=True)\n",
                "news_df.head()"
            ]
        },
        {
            "cell_type": "code",
            "execution_count": 137,
            "metadata": {},
            "outputs": [
                {
                    "data": {
                        "text/plain": [
                            "'[{\"Label\": \"Prince Philip, Duke of Edinburgh\", \"Type\": \"P\", \"WikidataId\": \"Q80976\", \"Confidence\": 1.0, \"OccurrenceOffsets\": [48], \"SurfaceForms\": [\"Prince Philip\"]}, {\"Label\": \"Charles, Prince of Wales\", \"Type\": \"P\", \"WikidataId\": \"Q43274\", \"Confidence\": 1.0, \"OccurrenceOffsets\": [28], \"SurfaceForms\": [\"Prince Charles\"]}, {\"Label\": \"Elizabeth II\", \"Type\": \"P\", \"WikidataId\": \"Q9682\", \"Confidence\": 0.97, \"OccurrenceOffsets\": [11], \"SurfaceForms\": [\"Queen Elizabeth\"]}]'"
                        ]
                    },
                    "execution_count": 137,
                    "metadata": {},
                    "output_type": "execute_result"
                }
            ],
            "source": [
                "news_df.loc[\"N55528\"][\"title_entities\"]"
            ]
        },
        {
            "cell_type": "markdown",
            "metadata": {},
            "source": [
                "Using Same Same but Different approach, but only with categories\n",
                "https://pure.tudelft.nl/ws/portalfiles/portal/52000140/Same_Same_but_Different.pdf"
            ]
        },
        {
            "cell_type": "code",
            "execution_count": 95,
            "metadata": {},
            "outputs": [
                {
                    "name": "stderr",
                    "output_type": "stream",
                    "text": [
                        ".vector_cache\\glove.6B.zip: 862MB [02:40, 5.39MB/s]                               \n",
                        "100%|█████████▉| 399999/400000 [00:23<00:00, 17152.74it/s]\n"
                    ]
                }
            ],
            "source": [
                "import torch\n",
                "import torchtext\n",
                "\n",
                "glove = torchtext.vocab.GloVe(name=\"6B\", dim=50)"
            ]
        },
        {
            "cell_type": "code",
            "execution_count": 114,
            "metadata": {},
            "outputs": [],
            "source": [
                "# nid_1 and nid_2 are news ids (strings)\n",
                "# returns similarity of categories of nid_1 and nid_2 using cosine similarity\n",
                "# if categories don't exist returns 0\n",
                "def get_category_similarity(nid_1, nid_2):\n",
                "    if nid_1 not in news_df.index or nid_2 not in news_df.index:\n",
                "        return 0\n",
                "    \n",
                "    cat1 = news_df.loc[nid_1][\"category\"]\n",
                "    cat2 = news_df.loc[nid_2][\"category\"]\n",
                "    \n",
                "    return 1 - torch.cosine_similarity(glove[cat1].unsqueeze(0), glove[cat2].unsqueeze(0)).item()\n",
                "\n",
                "\n",
                "# Calculates mmr score for a given item\n",
                "# item: news id\n",
                "# pred: relevance of item\n",
                "# recs_so_far: list of news ids recommended so far\n",
                "def mmr_item(item, pred, recs_so_far, lamda):\n",
                "    return (lamda * pred) - (1 - lamda) * np.max([1 - get_category_similarity(item, x) for x in recs_so_far])\n",
                "\n",
                "# Calculates list of recommendations\n",
                "# recs is a list of news ids\n",
                "# pred scores is a list of relevance scores, same order as recs\n",
                "# lamda is a weight parameter\n",
                "# k is how many items should be in the recommendation; assume k >= 1\n",
                "def mmr_user(recs, pred_scores, lamda, k):\n",
                "    list_so_far = [recs[0]]\n",
                "    while len(list_so_far) < k:\n",
                "        max_mmr = -2 # mmr can range from -1 to 1\n",
                "        max_mmr_id = ''\n",
                "        for i in range(0, len(recs)): #should be a better way to do this\n",
                "            if recs[i] not in list_so_far:\n",
                "                mmr_score = mmr_item(recs[i], pred_scores[i], list_so_far, lamda)\n",
                "                if mmr_score > max_mmr:\n",
                "                    max_mmr = mmr_score\n",
                "                    max_mmr_id = recs[i]\n",
                "        list_so_far.append(max_mmr_id)\n",
                "    return list_so_far\n",
                "        \n",
                "# Calculates recommendations according to mmr for all users\n",
                "# df is a Pandas dataframe with cols user, news_id, pred where pred[i] is the relevance score for news_id[i]\n",
                "# lamda is a weight parameter\n",
                "# k is how many items should be in the recommendation; assume k >= 1\n",
                "def mmr_all(df, lamda, k):\n",
                "    result_df = {}\n",
                "    for index, row in df.iterrows():\n",
                "        result_df[index] = mmr_user(row['news_id'], row['pred'], lamda, k)\n",
                "    return result_df\n"
            ]
        },
        {
            "cell_type": "code",
            "execution_count": 117,
            "metadata": {},
            "outputs": [
                {
                    "data": {
                        "text/plain": [
                            "{'test_U1': ['N7525', 'N32', 'N5582', 'N7283', 'N7716']}"
                        ]
                    },
                    "execution_count": 117,
                    "metadata": {},
                    "output_type": "execute_result"
                }
            ],
            "source": [
                "one_user = user_recs.head(1)\n",
                "mmr_all(one_user, 0, 5)"
            ]
        },
        {
            "cell_type": "code",
            "execution_count": 135,
            "metadata": {},
            "outputs": [
                {
                    "data": {
                        "text/plain": [
                            "'sports'"
                        ]
                    },
                    "execution_count": 135,
                    "metadata": {},
                    "output_type": "execute_result"
                }
            ],
            "source": [
                "news_df.loc['N6323'][\"category\"]"
            ]
        },
        {
            "cell_type": "code",
            "execution_count": 133,
            "metadata": {},
            "outputs": [
                {
                    "data": {
                        "text/html": [
                            "<div>\n",
                            "<style scoped>\n",
                            "    .dataframe tbody tr th:only-of-type {\n",
                            "        vertical-align: middle;\n",
                            "    }\n",
                            "\n",
                            "    .dataframe tbody tr th {\n",
                            "        vertical-align: top;\n",
                            "    }\n",
                            "\n",
                            "    .dataframe thead th {\n",
                            "        text-align: right;\n",
                            "    }\n",
                            "</style>\n",
                            "<table border=\"1\" class=\"dataframe\">\n",
                            "  <thead>\n",
                            "    <tr style=\"text-align: right;\">\n",
                            "      <th></th>\n",
                            "      <th>news_id</th>\n",
                            "      <th>pred</th>\n",
                            "    </tr>\n",
                            "    <tr>\n",
                            "      <th>user_id</th>\n",
                            "      <th></th>\n",
                            "      <th></th>\n",
                            "    </tr>\n",
                            "  </thead>\n",
                            "  <tbody>\n",
                            "    <tr>\n",
                            "      <th>test_U1</th>\n",
                            "      <td>[N7525, N6047, N32, N8046, N7035, N6323, N7727...</td>\n",
                            "      <td>[0.9402764, 0.8622448, 0.85336107, 0.7870782, ...</td>\n",
                            "    </tr>\n",
                            "  </tbody>\n",
                            "</table>\n",
                            "</div>"
                        ],
                        "text/plain": [
                            "                                                   news_id  \\\n",
                            "user_id                                                      \n",
                            "test_U1  [N7525, N6047, N32, N8046, N7035, N6323, N7727...   \n",
                            "\n",
                            "                                                      pred  \n",
                            "user_id                                                     \n",
                            "test_U1  [0.9402764, 0.8622448, 0.85336107, 0.7870782, ...  "
                        ]
                    },
                    "execution_count": 133,
                    "metadata": {},
                    "output_type": "execute_result"
                }
            ],
            "source": [
                "one_user"
            ]
        },
        {
            "cell_type": "markdown",
            "metadata": {},
            "source": [
                "Example output  \n",
                "test_U1  \n",
                "\n",
                "Categories of top 5 by relevance: news, sports, foodanddrink, finance, [no category]  \n",
                "Categories of top 5 by diversity: news, foodanddrink, foodanddrink, autos, lifestyle"
            ]
        },
        {
            "cell_type": "markdown",
            "metadata": {},
            "source": [
                "TODO\n",
                "- convert ranked list back into format with labels and run through ndcg\n",
                "- make some visualizations?\n",
                "- in thinking about this more, what does food and drink being \"more different\" from news than sports really mean? Instead of using word embeddings wouldn't it make more sense to simply give a 0 if the categories match and a 1 otherwise?\n",
                "-  experiment with different features instead of categories\n",
                "\n",
                "DONE\n",
                "- also realized that preds do not line up with the prediction scores. At least, if they are sorting those by highest to lowest, they don't match. This could be because: a. they are doing something different or b. (more likely) the predictions output is in a different order/I read it in wrong. (Yooo I'm so dumb. Tell me why I thought the order of the test file was the order that the ranking put the recommendations in??)\n",
                "- ran code on small sample and seems to be working so far\n",
                "- implemented word embedding"
            ]
        },
        {
            "cell_type": "markdown",
            "metadata": {},
            "source": [
                "Other diversity metric options \n",
                "from Recommenders with a Mission https://dl.acm.org/doi/pdf/10.1145/3406522.3446019\n",
                "\n",
                "calibration: distribution of categories across user's history, distribution of categories in current pool"
            ]
        },
        {
            "cell_type": "markdown",
            "metadata": {},
            "source": [
                "It seems to me that the other diversity metrics presented in Recommenders with a Mission require additional information that you need to figure out from the text, and the other features used in Same Same but Different are all provided to them with their dataset.\n",
                "\n",
                "If we don't just want to do categories, we could try doing similarity with the abstracts or the titles or the title entities or abstract entities. Or all of them together, somehow..."
            ]
        }
    ],
    "metadata": {
        "celltoolbar": "Tags",
        "interpreter": {
            "hash": "3a9a0c422ff9f08d62211b9648017c63b0a26d2c935edc37ebb8453675d13bb5"
        },
        "kernelspec": {
            "display_name": "Python 3 (ipykernel)",
            "language": "python",
            "name": "python3"
        },
        "language_info": {
            "codemirror_mode": {
                "name": "ipython",
                "version": 3
            },
            "file_extension": ".py",
            "mimetype": "text/x-python",
            "name": "python",
            "nbconvert_exporter": "python",
            "pygments_lexer": "ipython3",
            "version": "3.9.18"
        },
        "pycharm": {
            "stem_cell": {
                "cell_type": "raw",
                "metadata": {
                    "collapsed": false
                },
                "source": []
            }
        }
    },
    "nbformat": 4,
    "nbformat_minor": 2
}
