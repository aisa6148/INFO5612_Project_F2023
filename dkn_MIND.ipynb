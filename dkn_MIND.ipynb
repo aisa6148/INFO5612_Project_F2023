{
    "cells": [
        {
            "cell_type": "markdown",
            "metadata": {},
            "source": [
                "# DKN : Deep Knowledge-Aware Network for News Recommendation\n",
                "\n",
                "DKN \\[1\\] is a deep learning model which incorporates information from knowledge graph for better news recommendation. Specifically, DKN uses TransX \\[2\\] method for knowledge graph representation learning, then applies a CNN framework, named KCNN, to combine entity embedding with word embedding and generate a final embedding vector for a news article. CTR prediction is made via an attention-based neural scorer. "
            ]
        },
        {
            "cell_type": "markdown",
            "metadata": {},
            "source": [
                "## Global settings and imports"
            ]
        },
        {
            "cell_type": "code",
            "execution_count": 1,
            "metadata": {},
            "outputs": [
                {
                    "name": "stdout",
                    "output_type": "stream",
                    "text": [
                        "3.9.18\n"
                    ]
                }
            ],
            "source": [
                "import platform\n",
                "print(platform.python_version())"
            ]
        },
        {
            "cell_type": "code",
            "execution_count": 2,
            "metadata": {
                "pycharm": {
                    "is_executing": false
                }
            },
            "outputs": [
                {
                    "name": "stdout",
                    "output_type": "stream",
                    "text": [
                        "System version: 3.9.18 (main, Sep 11 2023, 14:09:26) [MSC v.1916 64 bit (AMD64)]\n",
                        "Tensorflow version: 2.14.0\n"
                    ]
                }
            ],
            "source": [
                "import warnings\n",
                "warnings.filterwarnings(\"ignore\")\n",
                "\n",
                "import os\n",
                "import sys\n",
                "from tempfile import TemporaryDirectory\n",
                "import numpy as np\n",
                "import pandas as pd\n",
                "import scrapbook as sb\n",
                "import tensorflow as tf\n",
                "tf.get_logger().setLevel(\"ERROR\") # only show error messages\n",
                "tf.compat.v1.logging.set_verbosity(tf.compat.v1.logging.ERROR)\n",
                "\n",
                "from recommenders.models.deeprec.deeprec_utils import download_deeprec_resources, prepare_hparams\n",
                "from recommenders.models.deeprec.models.dkn import DKN\n",
                "from recommenders.models.deeprec.io.dkn_iterator import DKNTextIterator\n",
                "\n",
                "print(f\"System version: {sys.version}\")\n",
                "print(f\"Tensorflow version: {tf.__version__}\")"
            ]
        },
        {
            "cell_type": "markdown",
            "metadata": {},
            "source": [
                "## Download and load data"
            ]
        },
        {
            "cell_type": "code",
            "execution_count": 3,
            "metadata": {
                "pycharm": {
                    "is_executing": false
                }
            },
            "outputs": [
                {
                    "name": "stderr",
                    "output_type": "stream",
                    "text": [
                        "100%|██████████| 11.3k/11.3k [00:02<00:00, 4.50kKB/s]\n"
                    ]
                }
            ],
            "source": [
                "tmpdir = TemporaryDirectory()\n",
                "data_path = os.path.join(tmpdir.name, \"mind-demo-dkn\")\n",
                "\n",
                "yaml_file = os.path.join(data_path, \"dkn.yaml\")\n",
                "train_file = os.path.join(data_path, \"train_mind_demo.txt\")\n",
                "valid_file = os.path.join(data_path, \"valid_mind_demo.txt\")\n",
                "test_file = os.path.join(data_path, \"test_mind_demo.txt\")\n",
                "news_feature_file = os.path.join(data_path, \"doc_feature.txt\")\n",
                "user_history_file = os.path.join(data_path, \"user_history.txt\")\n",
                "wordEmb_file = os.path.join(data_path, \"word_embeddings_100.npy\")\n",
                "entityEmb_file = os.path.join(data_path, \"TransE_entity2vec_100.npy\")\n",
                "contextEmb_file = os.path.join(data_path, \"TransE_context2vec_100.npy\")\n",
                "if not os.path.exists(yaml_file):\n",
                "    download_deeprec_resources(\"https://recodatasets.z20.web.core.windows.net/deeprec/\", tmpdir.name, \"mind-demo-dkn.zip\")\n",
                "    "
            ]
        },
        {
            "cell_type": "markdown",
            "metadata": {},
            "source": [
                "## Train the model\n",
                "Note: no need to run this code as preds.csv is already created."
            ]
        },
        {
            "cell_type": "code",
            "execution_count": null,
            "metadata": {},
            "outputs": [],
            "source": [
                "EPOCHS = 10\n",
                "HISTORY_SIZE = 50\n",
                "BATCH_SIZE = 500\n",
                "def train_model():\n",
                "    hparams = prepare_hparams(yaml_file,\n",
                "                          news_feature_file = news_feature_file,\n",
                "                          user_history_file = user_history_file,\n",
                "                          wordEmb_file=wordEmb_file,\n",
                "                          entityEmb_file=entityEmb_file,\n",
                "                          contextEmb_file=contextEmb_file,\n",
                "                          epochs=EPOCHS,\n",
                "                          history_size=HISTORY_SIZE,\n",
                "                          batch_size=BATCH_SIZE)\n",
                "    print(hparams)\n",
                "    model = DKN(hparams, DKNTextIterator)\n",
                "    print(model.run_eval(valid_file))\n",
                "    model.fit(train_file, valid_file)\n",
                "    return model\n"
            ]
        },
        {
            "cell_type": "markdown",
            "metadata": {},
            "source": [
                "## Evaluate the model\n",
                "\n",
                "Now we can check the performance on the test set:"
            ]
        },
        {
            "cell_type": "code",
            "execution_count": null,
            "metadata": {},
            "outputs": [],
            "source": [
                "def eval_model(model, test_file, pred_outfile_name):\n",
                "    res = model.run_eval(test_file)\n",
                "    print(res)\n",
                "    model.predict(infile_name=test_file, outfile_name=pred_outfile_name)"
            ]
        },
        {
            "cell_type": "code",
            "execution_count": null,
            "metadata": {
                "pycharm": {
                    "is_executing": false
                }
            },
            "outputs": [
                {
                    "name": "stdout",
                    "output_type": "stream",
                    "text": [
                        "{'auc': 0.6019, 'group_auc': 0.5905, 'mean_mrr': 0.2122, 'ndcg@5': 0.2169, 'ndcg@10': 0.2768}\n"
                    ]
                }
            ],
            "source": []
        },
        {
            "cell_type": "markdown",
            "metadata": {},
            "source": [
                "## Construct dataframe with labels, news_ids, and prediction scores"
            ]
        },
        {
            "cell_type": "code",
            "execution_count": 54,
            "metadata": {},
            "outputs": [],
            "source": [
                "def get_df(test_file, pred_outfile_name):\n",
                "    df = pd.read_csv(test_file, \" \", header=None).rename(columns={0: \"label\", 1: \"user_id\", 2: \"news_id_and_impression_id\"})\n",
                "    df[\"news_id\"] = df[\"news_id_and_impression_id\"].apply(lambda x: str(x).split(\"%\")[0])\n",
                "    df[\"impression_id\"] = df[\"news_id_and_impression_id\"].apply(lambda x: str(x).split(\"%\")[1])\n",
                "    df = df.drop([\"news_id_and_impression_id\"], axis=1)\n",
                "\n",
                "    preds = pd.read_csv(pred_outfile_name, header = None).rename(columns={0: \"pred\"})\n",
                "    full_df = pd.concat([df, preds], axis=1)\n",
                "    full_df = full_df.sort_values([\"user_id\", \"pred\"], ascending=False)\n",
                "    full_df = full_df.groupby(\"user_id\").agg({\"news_id\": list, \"pred\": list, \"label\": list})\n",
                "    \n",
                "    return full_df"
            ]
        },
        {
            "cell_type": "markdown",
            "metadata": {},
            "source": [
                "## Evaluation metrics"
            ]
        },
        {
            "cell_type": "markdown",
            "metadata": {},
            "source": [
                "### AUC"
            ]
        },
        {
            "cell_type": "code",
            "execution_count": null,
            "metadata": {},
            "outputs": [],
            "source": [
                "from sklearn.metrics import roc_auc_score\n",
                "\n",
                "def calculate_auc(df):\n",
                "    return roc_auc_score(df[\"label\"], df[\"pred\"])"
            ]
        },
        {
            "cell_type": "markdown",
            "metadata": {},
            "source": [
                "### NDCG"
            ]
        },
        {
            "cell_type": "code",
            "execution_count": 13,
            "metadata": {},
            "outputs": [],
            "source": [
                "from sklearn.metrics import ndcg_score\n",
                "\n",
                "def calculate_ndcg_at_k(df, k):\n",
                "    avg_ndcg = 0\n",
                "    count = 0\n",
                "    for i in range(len(df)):\n",
                "        temp = df.iloc[i]\n",
                "        ndcg = ndcg_score([temp[\"label\"]], [temp[\"pred\"]], k=k)\n",
                "        avg_ndcg += ndcg\n",
                "        count += 1\n",
                "    return avg_ndcg/count"
            ]
        },
        {
            "cell_type": "markdown",
            "metadata": {},
            "source": [
                "### Diversity"
            ]
        },
        {
            "cell_type": "code",
            "execution_count": 15,
            "metadata": {},
            "outputs": [],
            "source": [
                "import os\n",
                "import tempfile\n",
                "import urllib\n",
                "import zipfile\n",
                "\n",
                "# Temporary folder for data we need during execution of this notebook (we'll clean up\n",
                "# at the end, we promise)\n",
                "temp_dir = os.path.join(tempfile.gettempdir(), 'mind')\n",
                "os.makedirs(temp_dir, exist_ok=True)\n",
                "\n",
                "# The dataset is split into training and validation set, each with a large and small version.\n",
                "# The format of the four files are the same.\n",
                "# For demonstration purpose, we will use small version validation set only.\n",
                "base_url = 'https://mind201910small.blob.core.windows.net/release'\n",
                "training_small_url = f'{base_url}/MINDsmall_train.zip'\n",
                "validation_small_url = f'{base_url}/MINDsmall_dev.zip'\n",
                "training_large_url = f'{base_url}/MINDlarge_train.zip'\n",
                "validation_large_url = f'{base_url}/MINDlarge_dev.zip'\n",
                "\n",
                "def download_url(url,\n",
                "                 destination_filename=None,\n",
                "                 progress_updater=None,\n",
                "                 force_download=False,\n",
                "                 verbose=True):\n",
                "    \"\"\"\n",
                "    Download a URL to a temporary file\n",
                "    \"\"\"\n",
                "    if not verbose:\n",
                "        progress_updater = None\n",
                "    # This is not intended to guarantee uniqueness, we just know it happens to guarantee\n",
                "    # uniqueness for this application.\n",
                "    if destination_filename is None:\n",
                "        url_as_filename = url.replace('://', '_').replace('/', '_')\n",
                "        destination_filename = \\\n",
                "            os.path.join(temp_dir,url_as_filename)\n",
                "    if (not force_download) and (os.path.isfile(destination_filename)):\n",
                "        if verbose:\n",
                "            print('Bypassing download of already-downloaded file {}'.format(\n",
                "                os.path.basename(url)))\n",
                "        return destination_filename\n",
                "    if verbose:\n",
                "        print('Downloading file {} to {}'.format(os.path.basename(url),\n",
                "                                                 destination_filename),\n",
                "              end='')\n",
                "    urllib.request.urlretrieve(url, destination_filename, progress_updater)\n",
                "    assert (os.path.isfile(destination_filename))\n",
                "    nBytes = os.path.getsize(destination_filename)\n",
                "    if verbose:\n",
                "        print('...done, {} bytes.'.format(nBytes))\n",
                "    return destination_filename"
            ]
        },
        {
            "cell_type": "code",
            "execution_count": 16,
            "metadata": {},
            "outputs": [],
            "source": [
                "def get_news_df():\n",
                "    zip_path = download_url(validation_small_url, verbose=True)\n",
                "    with zipfile.ZipFile(zip_path, 'r') as zip_ref:\n",
                "        zip_ref.extractall(temp_dir)\n",
                "\n",
                "    os.listdir(temp_dir)\n",
                "\n",
                "    news_path = os.path.join(temp_dir, 'news.tsv')\n",
                "    news_df = pd.read_table(news_path,\n",
                "                header=None,\n",
                "                names=[\n",
                "                    'id', 'category', 'subcategory', 'title', 'abstract', 'url',\n",
                "                    'title_entities', 'abstract_entities'\n",
                "                ])\n",
                "    news_df.set_index(\"id\", inplace=True)\n",
                "    return news_df"
            ]
        },
        {
            "cell_type": "code",
            "execution_count": 17,
            "metadata": {},
            "outputs": [
                {
                    "name": "stderr",
                    "output_type": "stream",
                    "text": [
                        ".vector_cache\\glove.6B.zip: 862MB [03:05, 4.64MB/s]                               \n",
                        "100%|█████████▉| 399999/400000 [00:15<00:00, 25440.11it/s]\n"
                    ]
                }
            ],
            "source": [
                "import torch\n",
                "import torchtext\n",
                "\n",
                "glove = torchtext.vocab.GloVe(name=\"6B\", dim=50)"
            ]
        },
        {
            "cell_type": "code",
            "execution_count": 18,
            "metadata": {},
            "outputs": [],
            "source": [
                "# nid_1 and nid_2 are news ids (strings)\n",
                "# returns similarity of categories of nid_1 and nid_2 using cosine similarity\n",
                "# if categories don't exist returns 0\n",
                "def get_category_similarity(news_df, nid_1, nid_2):\n",
                "    if nid_1 not in news_df.index or nid_2 not in news_df.index:\n",
                "        return 0\n",
                "    \n",
                "    cat1 = news_df.loc[nid_1][\"category\"]\n",
                "    cat2 = news_df.loc[nid_2][\"category\"]\n",
                "    \n",
                "    return 1 - torch.cosine_similarity(glove[cat1].unsqueeze(0), glove[cat2].unsqueeze(0)).item()"
            ]
        },
        {
            "cell_type": "code",
            "execution_count": 20,
            "metadata": {},
            "outputs": [],
            "source": [
                "def diversity_user(news_df, recs):\n",
                "    score = 0.0\n",
                "    count = 0.0\n",
                "    for i in range(len(recs)):\n",
                "        for j in range(i+1, len(recs)):\n",
                "            count += 1.0\n",
                "            score += get_category_similarity(news_df, recs[i], recs[j])\n",
                "    return score/count\n",
                "        \n",
                "\n",
                "def diversity_eval(news_df, df):\n",
                "    diversity_score = 0.0\n",
                "    count = 0.0\n",
                "    for index, row in df.iterrows():\n",
                "        diversity_score += diversity_user(news_df, row['news_id'])\n",
                "        count += 1.0\n",
                "    return diversity_score/count"
            ]
        },
        {
            "cell_type": "markdown",
            "metadata": {},
            "source": [
                "## Re-ranking via MMR"
            ]
        },
        {
            "cell_type": "code",
            "execution_count": 43,
            "metadata": {},
            "outputs": [],
            "source": [
                "\n",
                "# Calculates mmr score for a given item\n",
                "# item: news id\n",
                "# pred: relevance of item\n",
                "# recs_so_far: list of news ids recommended so far\n",
                "def mmr_item(news_df, item, pred, recs_so_far, lamda):\n",
                "    return (lamda * pred) - (1 - lamda) * np.max([1 - get_category_similarity(news_df, item, x) for x in recs_so_far])\n",
                "\n",
                "# Calculates list of recommendations\n",
                "# recs is a list of news ids\n",
                "# pred scores is a list of relevance scores, same order as recs\n",
                "# lamda is a weight parameter\n",
                "# k is how many items should be in the recommendation; assume k >= 1\n",
                "def mmr_user(news_df, recs, pred_scores, lamda, k):\n",
                "    list_so_far = [recs[0]]\n",
                "    preds_so_far = [pred_scores[0]]\n",
                "    while len(list_so_far) < k:\n",
                "        max_mmr = -2 # mmr can range from -1 to 1\n",
                "        max_mmr_id = ''\n",
                "        for i in range(0, len(recs)): #should be a better way to do this\n",
                "            if recs[i] not in list_so_far:\n",
                "                mmr_score = mmr_item(news_df, recs[i], pred_scores[i], list_so_far, lamda)\n",
                "                if mmr_score > max_mmr:\n",
                "                    max_mmr = mmr_score\n",
                "                    max_mmr_id = recs[i]\n",
                "        list_so_far.append(max_mmr_id)\n",
                "        preds_so_far.append(max_mmr)\n",
                "    return list_so_far, preds_so_far\n",
                "        \n",
                "# Calculates recommendations according to mmr for all users\n",
                "# df is a Pandas dataframe with cols user, news_id, pred where pred[i] is the relevance score for news_id[i]\n",
                "# lamda is a weight parameter\n",
                "# k is how many items should be in the recommendation; assume k >= 1\n",
                "def mmr_all(news_df, df, lamda, k):\n",
                "    result_df = {}\n",
                "    for index, row in df.iterrows():\n",
                "        news_ids, preds = mmr_user(news_df, row['news_id'], row['pred'], lamda, k)\n",
                "        result_df[index] = {\"news_id\": news_ids, \"pred\": preds}\n",
                "    return result_df\n"
            ]
        },
        {
            "cell_type": "markdown",
            "metadata": {},
            "source": [
                "# Results"
            ]
        },
        {
            "cell_type": "markdown",
            "metadata": {},
            "source": [
                "### Baseline"
            ]
        },
        {
            "cell_type": "code",
            "execution_count": 68,
            "metadata": {},
            "outputs": [
                {
                    "name": "stdout",
                    "output_type": "stream",
                    "text": [
                        "Bypassing download of already-downloaded file MINDsmall_dev.zip\n",
                        "NDCG@5 (baseline): 0.15771405697384241\n",
                        "Diversity (baseline): 0.4037543211831672\n"
                    ]
                }
            ],
            "source": [
                "df = get_df(test_file, \"test_preds.csv\")\n",
                "news_df = get_news_df()\n",
                "k = 5\n",
                "\n",
                "df_at_k = df.copy()\n",
                "df_at_k[\"news_id\"] = df[\"news_id\"].apply(lambda x: x[:k])\n",
                "\n",
                "print(f\"NDCG@{k} (baseline): {calculate_ndcg_at_k(df, k)}\")\n",
                "print(f\"Diversity (baseline): {diversity_eval(news_df, df_at_k)}\")"
            ]
        },
        {
            "cell_type": "markdown",
            "metadata": {},
            "source": [
                "### After re-ranking via MMR\n",
                "Note that lamda = 0 means all diversity, no relevance, and lamda = 1 means all relevance, no diversity."
            ]
        },
        {
            "cell_type": "code",
            "execution_count": 76,
            "metadata": {},
            "outputs": [
                {
                    "name": "stdout",
                    "output_type": "stream",
                    "text": [
                        "Reranking with lambda=0.0...\n",
                        "Diversity: 0.7885455176177153\n",
                        "NDCG@5: 0.19568803944657467\n",
                        "Reranking with lambda=0.25...\n",
                        "Diversity: 0.783185929197005\n",
                        "NDCG@5: 0.20151427679930312\n",
                        "Reranking with lambda=0.5...\n",
                        "Diversity: 0.772263921831532\n",
                        "NDCG@5: 0.20671477930718826\n",
                        "Reranking with lambda=0.75...\n",
                        "Diversity: 0.6183990380145128\n",
                        "NDCG@5: 0.211004037646523\n",
                        "Reranking with lambda=1.0...\n",
                        "Diversity: 0.3767400817053529\n",
                        "NDCG@5: 0.20896135984851408\n"
                    ]
                }
            ],
            "source": [
                "lamdas = [x/100.0 for x in range(0, 125, 25)]\n",
                "diversities = []\n",
                "ndcgs = []\n",
                "exploded_df = df.copy().reset_index().explode(['pred', 'label', 'news_id']) #split back into columns\n",
                "for i in lamdas:\n",
                "    print(f\"\\nReranking with lambda={i}...\")\n",
                "    mmr_rerank_data = mmr_all(news_df, df, i, k)\n",
                "    mmr_rerank_df = pd.DataFrame.from_dict(mmr_rerank_data, orient=\"index\").reset_index()\n",
                "\n",
                "    diversity = diversity_eval(news_df, mmr_rerank_df)\n",
                "    print(f\"Diversity: {diversity}\")\n",
                "    diversities.append(diversity)\n",
                "\n",
                "    mmr_rerank_df = mmr_rerank_df.rename({\"index\": \"user_id\"}, axis=1)\n",
                "    split_df = mmr_rerank_df.set_index([\"user_id\"]).apply(lambda x: x.explode()).reset_index()\n",
                "    split_df = split_df.rename({\"pred\": \"mmr_pred\"}, axis=1)\n",
                "    mmr_labels = pd.merge(exploded_df, split_df, on=[\"user_id\", \"news_id\"], how=\"right\")\n",
                "    mmr_labels_lists = mmr_labels.groupby(\"user_id\").agg({\"label\": list, \"mmr_pred\": list})\n",
                "    mmr_labels_lists.rename(columns={\"mmr_pred\": \"pred\"}, inplace=True)\n",
                "    ndcg = calculate_ndcg_at_k(mmr_labels_lists, k)\n",
                "    print(f\"NDCG@{k}: {ndcg}\")\n",
                "    ndcgs.append(ndcg)"
            ]
        },
        {
            "cell_type": "code",
            "execution_count": 82,
            "metadata": {},
            "outputs": [
                {
                    "data": {
                        "image/png": "[encoded data removed]",
                        "text/plain": [
                            "<Figure size 640x480 with 1 Axes>"
                        ]
                    },
                    "metadata": {},
                    "output_type": "display_data"
                }
            ],
            "source": [
                "import matplotlib.pyplot as plt\n",
                "plt.plot(lamdas, ndcgs)\n",
                "plt.title(f\"NDCG@{k} based on lambda\")\n",
                "plt.xlabel(\"Lambda\")\n",
                "plt.ylabel(f\"NDCG@{k}\")\n",
                "plt.show()"
            ]
        },
        {
            "cell_type": "code",
            "execution_count": 81,
            "metadata": {},
            "outputs": [
                {
                    "data": {
                        "text/plain": [
                            "Text(0, 0.5, 'NDCG@5')"
                        ]
                    },
                    "execution_count": 81,
                    "metadata": {},
                    "output_type": "execute_result"
                },
                {
                    "data": {
                        "image/png": "[encoded data removed]",
                        "text/plain": [
                            "<Figure size 640x480 with 1 Axes>"
                        ]
                    },
                    "metadata": {},
                    "output_type": "display_data"
                }
            ],
            "source": [
                "import matplotlib.pyplot as plt\n",
                "plt.plot(lamdas, diversities)\n",
                "plt.title(f\"Diversity based on lambda\")\n",
                "plt.xlabel(\"Lambda\")\n",
                "plt.ylabel(f\"NDCG@{k}\")"
            ]
        }
    ],
    "metadata": {
        "celltoolbar": "Tags",
        "interpreter": {
            "hash": "3a9a0c422ff9f08d62211b9648017c63b0a26d2c935edc37ebb8453675d13bb5"
        },
        "kernelspec": {
            "display_name": "Python 3 (ipykernel)",
            "language": "python",
            "name": "python3"
        },
        "language_info": {
            "codemirror_mode": {
                "name": "ipython",
                "version": 3
            },
            "file_extension": ".py",
            "mimetype": "text/x-python",
            "name": "python",
            "nbconvert_exporter": "python",
            "pygments_lexer": "ipython3",
            "version": "3.9.18"
        },
        "pycharm": {
            "stem_cell": {
                "cell_type": "raw",
                "metadata": {
                    "collapsed": false
                },
                "source": []
            }
        }
    },
    "nbformat": 4,
    "nbformat_minor": 2
}
